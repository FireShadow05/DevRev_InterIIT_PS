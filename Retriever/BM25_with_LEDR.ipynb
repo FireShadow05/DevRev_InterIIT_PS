{
  "nbformat": 4,
  "nbformat_minor": 0,
  "metadata": {
    "colab": {
      "provenance": [],
      "include_colab_link": true
    },
    "kernelspec": {
      "name": "python3",
      "display_name": "Python 3"
    },
    "language_info": {
      "name": "python"
    },
    "accelerator": "GPU",
    "gpuClass": "standard"
  },
  "cells": [
    {
      "cell_type": "markdown",
      "metadata": {
        "id": "view-in-github",
        "colab_type": "text"
      },
      "source": [
        "<a href=\"https://colab.research.google.com/github/FireShadow05/DevRev_InterIIT_PS/blob/master/Retriever/BM25_with_LEDR.ipynb\" target=\"_parent\"><img src=\"https://colab.research.google.com/assets/colab-badge.svg\" alt=\"Open In Colab\"/></a>"
      ]
    },
    {
      "cell_type": "code",
      "source": [
        "!pip install rank_bm25\n",
        "!pip install beir\n",
        "!pip install tensorflow_text"
      ],
      "metadata": {
        "id": "ltUl0wMbXRv_"
      },
      "execution_count": null,
      "outputs": []
    },
    {
      "cell_type": "code",
      "source": [
        "import numpy as np\n",
        "import logging\n",
        "import pathlib, os\n",
        "import torch\n",
        "import pickle\n",
        "import gc\n",
        "import sys\n",
        "\n",
        "from beir import util, LoggingHandler\n",
        "from beir.retrieval import models\n",
        "from beir.datasets.data_loader import GenericDataLoader\n",
        "from beir.retrieval.evaluation import EvaluateRetrieval\n",
        "from beir.retrieval.search.dense import DenseRetrievalExactSearch as DRES"
      ],
      "metadata": {
        "id": "f1YfDj5eG74d"
      },
      "execution_count": 7,
      "outputs": []
    },
    {
      "cell_type": "code",
      "source": [
        "def top_k_accuracy(\n",
        "        qrels, \n",
        "        results, \n",
        "        k_values) :\n",
        "    \n",
        "    top_k_acc = {}\n",
        "    \n",
        "    for k in k_values:\n",
        "        top_k_acc[f\"Accuracy@{k}\"] = 0.0\n",
        "    \n",
        "    k_max, top_hits = max(k_values), {}\n",
        "    \n",
        "    for query_id, doc_scores in results.items():\n",
        "        top_hits[query_id] = [item[0] for item in sorted(doc_scores.items(), key=lambda item: item[1], reverse=True)[0:k_max]]\n",
        "    \n",
        "    for query_id in top_hits:\n",
        "        if query_id not in qrels.keys():\n",
        "            continue\n",
        "        query_relevant_docs = set([doc_id for doc_id in qrels[query_id] if qrels[query_id][doc_id] > 0])\n",
        "        for k in k_values:\n",
        "            for relevant_doc_id in query_relevant_docs:\n",
        "                if relevant_doc_id in top_hits[query_id][0:k]:\n",
        "                    \n",
        "                    top_k_acc[f\"Accuracy@{k}\"] += 1.0\n",
        "                    break\n",
        "\n",
        "    for k in k_values:\n",
        "        top_k_acc[f\"Accuracy@{k}\"] = round(top_k_acc[f\"Accuracy@{k}\"]/len(qrels), 5)\n",
        "\n",
        "    return top_k_acc"
      ],
      "metadata": {
        "id": "vCcXKUD5cazF"
      },
      "execution_count": 13,
      "outputs": []
    },
    {
      "cell_type": "code",
      "execution_count": 8,
      "metadata": {
        "id": "iiToJJukWFg7"
      },
      "outputs": [],
      "source": [
        "from urllib.request import urlopen\n",
        "import json\n",
        "url = \"https://rajpurkar.github.io/SQuAD-explorer/dataset/dev-v2.0.json\"\n",
        "response = urlopen(url)\n",
        "data_json = json.loads(response.read())['data']\n",
        "corpus = {}\n",
        "queries = {}\n",
        "qrels = {}\n",
        "paras = []\n",
        "id = 0\n",
        "for i in range(len(data_json)):\n",
        "    for j in range(len(data_json[i]['paragraphs'])):\n",
        "          for k in range(len(data_json[i]['paragraphs'][j]['qas'])):\n",
        "              queries[data_json[i]['paragraphs'][j]['qas'][k]['id']] = data_json[i]['paragraphs'][j]['qas'][k]['question']\n",
        "              if not data_json[i]['paragraphs'][j]['qas'][k]['is_impossible']:\n",
        "                  qrels[data_json[i]['paragraphs'][j]['qas'][k]['id']] = {str(id) : 1} \n",
        "          \n",
        "          corpus[str(id)] = {\n",
        "              'title' : data_json[i]['title'],\n",
        "           'text' : data_json[i]['paragraphs'][j]['context']\n",
        "          }\n",
        "          paras.append(data_json[i]['paragraphs'][j]['context'])\n",
        "          id += 1"
      ]
    },
    {
      "cell_type": "code",
      "source": [
        "from rank_bm25 import BM25Okapi\n",
        "tokenized_corpus = [doc.split(\" \") for doc in paras]\n",
        "bm25 = BM25Okapi(tokenized_corpus)"
      ],
      "metadata": {
        "id": "ZYM6eAmuXSWJ"
      },
      "execution_count": 9,
      "outputs": []
    },
    {
      "cell_type": "code",
      "source": [
        "def get_key(val):\n",
        "    for key, value in queries.items():\n",
        "        if val == value:\n",
        "            return key\n",
        "bm25_results = {}\n",
        "for q in queries.values():\n",
        "  tokenized_query = q.split(\" \")\n",
        "  doc_scores = bm25.get_scores(tokenized_query)\n",
        "  l = sorted(range(len(doc_scores)), key=lambda i: doc_scores[i])[-5:]\n",
        "  id = get_key(q)\n",
        "  d = {}\n",
        "  for v in l:\n",
        "    d[str(v)] = doc_scores[v]\n",
        "  bm25_results[id] = d"
      ],
      "metadata": {
        "id": "ejvNqDqxX7Ge"
      },
      "execution_count": 10,
      "outputs": []
    },
    {
      "cell_type": "code",
      "source": [
        "model = DRES(models.SentenceBERT('sentence-transformers/multi-qa-mpnet-base-dot-v1'), batch_size=16)\n",
        "retriever = EvaluateRetrieval(model, score_function=\"dot\")\n",
        "\n",
        "results = retriever.retrieve(corpus, queries, bm25_result = bm25_results, k_values = [5])"
      ],
      "metadata": {
        "id": "oU1BgW4dbp0T"
      },
      "execution_count": null,
      "outputs": []
    },
    {
      "cell_type": "code",
      "source": [
        "top_k_accuracy(\n",
        "        qrels, \n",
        "        results, \n",
        "        [1])"
      ],
      "metadata": {
        "id": "x_AT4rnWdi_E"
      },
      "execution_count": null,
      "outputs": []
    }
  ]
}